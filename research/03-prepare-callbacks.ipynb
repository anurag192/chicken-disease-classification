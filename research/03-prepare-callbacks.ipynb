{
 "cells": [
  {
   "cell_type": "code",
   "execution_count": 1,
   "id": "4bbd110e",
   "metadata": {},
   "outputs": [],
   "source": [
    "import os"
   ]
  },
  {
   "cell_type": "code",
   "execution_count": 2,
   "id": "38b080fd",
   "metadata": {},
   "outputs": [],
   "source": [
    "os.chdir(\"../\")"
   ]
  },
  {
   "cell_type": "code",
   "execution_count": 3,
   "id": "2a109e14",
   "metadata": {},
   "outputs": [
    {
     "data": {
      "text/plain": [
       "'c:\\\\Users\\\\user\\\\Desktop\\\\deep-learning'"
      ]
     },
     "execution_count": 3,
     "metadata": {},
     "output_type": "execute_result"
    }
   ],
   "source": [
    "%pwd"
   ]
  },
  {
   "cell_type": "code",
   "execution_count": 4,
   "id": "cb8bc2bc",
   "metadata": {},
   "outputs": [],
   "source": [
    "from pathlib import Path\n",
    "from dataclasses import dataclass\n",
    "@dataclass(frozen=True)\n",
    "class PrepareCallbackConfig:\n",
    "    root_dir:Path\n",
    "    tensorboard_root_log_dir:Path\n",
    "    checkpoint_model_file_path:Path\n",
    "\n",
    "\n"
   ]
  },
  {
   "cell_type": "code",
   "execution_count": 5,
   "id": "bc333aa2",
   "metadata": {},
   "outputs": [],
   "source": [
    "from src.cnnClassifier.constants import *\n",
    "from src.cnnClassifier.utils.common import read_yaml,create_directories"
   ]
  },
  {
   "cell_type": "code",
   "execution_count": 6,
   "id": "980912ae",
   "metadata": {},
   "outputs": [
    {
     "data": {
      "text/plain": [
       "'artifacts/prepare_callbacks/checkpoint_dir'"
      ]
     },
     "execution_count": 6,
     "metadata": {},
     "output_type": "execute_result"
    }
   ],
   "source": [
    "import os\n",
    "os.path.dirname(\"artifacts/prepare_callbacks/checkpoint_dir/model.h5\")"
   ]
  },
  {
   "cell_type": "code",
   "execution_count": 11,
   "id": "6dba8e27",
   "metadata": {},
   "outputs": [],
   "source": [
    "class ConfigurationManager:\n",
    "    def __init__(self,config_filepath=CONFIG_FILE_PATH,\n",
    "                 params_filepath=PARAMS_FILE_PATH):\n",
    "        self.config=read_yaml(config_filepath)\n",
    "        self.params=read_yaml(params_filepath)\n",
    "\n",
    "        create_directories([self.config.artifacts_root])\n",
    "\n",
    "    def get_prepare_callback(self)->PrepareCallbackConfig:\n",
    "        config=self.config.prepare_callbacks\n",
    "\n",
    "        model_ckpt_dir=os.path.dirname(config.checkpoint_model_file_path)\n",
    "        create_directories([\n",
    "            Path(model_ckpt_dir),\n",
    "            Path(config.tensorboard_root_log_dir)\n",
    "        ])\n",
    "\n",
    "        prepare_callback_config=PrepareCallbackConfig(\n",
    "            root_dir=Path(config.root_dir),\n",
    "            tensorboard_root_log_dir=Path(config.tensorboard_root_log_dir),\n",
    "            checkpoint_model_file_path=Path(config.checkpoint_model_file_path)\n",
    "\n",
    "\n",
    "        )\n",
    "        return prepare_callback_config\n",
    "\n",
    "    "
   ]
  },
  {
   "cell_type": "code",
   "execution_count": 8,
   "id": "4831c44e",
   "metadata": {},
   "outputs": [],
   "source": [
    "import os\n",
    "import urllib.request as request\n",
    "from zipfile import ZipFile\n",
    "import tensorflow as tf\n",
    "import time"
   ]
  },
  {
   "cell_type": "code",
   "execution_count": 12,
   "id": "75b3a4e0",
   "metadata": {},
   "outputs": [],
   "source": [
    "class PrepareCallback:\n",
    "\n",
    "    def __init__(self,config:PrepareCallbackConfig):\n",
    "        self.config=config\n",
    "\n",
    "    @property\n",
    "    def create_tb_callbacks(self):\n",
    "        timestamp=time.strftime(\"%Y-%m-%d-%H-%M-%S\")\n",
    "        tb_running_log_dir=os.path.join(self.config.tensorboard_root_log_dir,\n",
    "                                        f\"tb_logs_at_{timestamp}\")\n",
    "        \n",
    "        return tf.keras.callbacks.TensorBoard(log_dir=tb_running_log_dir)\n",
    "    \n",
    "    @property\n",
    "    def create_ckpt_callbacks(self):\n",
    "        return tf.keras.callbacks.ModelCheckpoint(\n",
    "            filepath=self.config.checkpoint_model_file_path,\n",
    "            save_best_only=True\n",
    "        )\n",
    "    \n",
    "    @property\n",
    "\n",
    "    def get_tb_callback(self):\n",
    "        return [\n",
    "            self.create_tb_callbacks,\n",
    "            self.create_ckpt_callbacks\n",
    "        ]\n"
   ]
  },
  {
   "cell_type": "code",
   "execution_count": 14,
   "id": "8592e171",
   "metadata": {},
   "outputs": [
    {
     "name": "stdout",
     "output_type": "stream",
     "text": [
      "2025-06-03 12:29:58,762 - INFO - config\\config.yaml loaded successfully\n",
      "2025-06-03 12:29:58,770 - INFO - params.yaml loaded successfully\n",
      "2025-06-03 12:29:58,770 - INFO - Created directory artifacts\n",
      "2025-06-03 12:29:58,778 - INFO - Created directory artifacts\\prepare_callbacks\\checkpoint_dir\n",
      "2025-06-03 12:29:58,787 - INFO - Created directory artifacts\\prepare_callbacks\\tensorboard_log_dir\n"
     ]
    }
   ],
   "source": [
    "try:\n",
    "    config=ConfigurationManager()\n",
    "    prepare_callback_config=config.get_prepare_callback()\n",
    "    prepare_callback=PrepareCallback(prepare_callback_config)\n",
    "    callback_list=prepare_callback.get_tb_callback\n",
    "\n",
    "except Exception as e:\n",
    "    raise e\n"
   ]
  }
 ],
 "metadata": {
  "kernelspec": {
   "display_name": "Python 3",
   "language": "python",
   "name": "python3"
  },
  "language_info": {
   "codemirror_mode": {
    "name": "ipython",
    "version": 3
   },
   "file_extension": ".py",
   "mimetype": "text/x-python",
   "name": "python",
   "nbconvert_exporter": "python",
   "pygments_lexer": "ipython3",
   "version": "3.10.0"
  }
 },
 "nbformat": 4,
 "nbformat_minor": 5
}
